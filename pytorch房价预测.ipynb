{
 "cells": [
  {
   "cell_type": "code",
   "execution_count": 375,
   "metadata": {},
   "outputs": [],
   "source": [
    "import numpy as np\n",
    "import torch\n",
    "from torch import nn\n",
    "from torch.autograd import Variable\n",
    "import torch.optim as optim\n",
    "import matplotlib.pyplot as plt\n",
    "import random"
   ]
  },
  {
   "cell_type": "markdown",
   "metadata": {},
   "source": [
    "## 数据预处理"
   ]
  },
  {
   "cell_type": "code",
   "execution_count": 376,
   "metadata": {},
   "outputs": [],
   "source": [
    "with open('/root/jupyter/housing.data.txt', 'r', encoding='utf8') as f:\n",
    "    l = f.readlines()"
   ]
  },
  {
   "cell_type": "code",
   "execution_count": 377,
   "metadata": {},
   "outputs": [],
   "source": [
    "middle = []\n",
    "for i in l:\n",
    "    middle.append([float(j) for j in i.split()][0:13])"
   ]
  },
  {
   "cell_type": "code",
   "execution_count": 378,
   "metadata": {},
   "outputs": [
    {
     "name": "stdout",
     "output_type": "stream",
     "text": [
      "[3.61352356e+00 1.13636364e+01 1.11367787e+01 6.91699605e-02\n",
      " 5.54695059e-01 6.28463439e+00 6.85749012e+01 3.79504269e+00\n",
      " 9.54940711e+00 4.08237154e+02 1.84555336e+01 3.56674032e+02\n",
      " 1.26530632e+01] [8.59304135e+00 2.32993957e+01 6.85357058e+00 2.53742935e-01\n",
      " 1.15763115e-01 7.01922514e-01 2.81210326e+01 2.10362836e+00\n",
      " 8.69865112e+00 1.68370495e+02 2.16280519e+00 9.12046075e+01\n",
      " 7.13400164e+00]\n"
     ]
    }
   ],
   "source": [
    "#计算均值、方差\n",
    "mean  = np.mean(np.array(middle), axis=0)\n",
    "std = np.std(np.array(middle), axis=0)\n",
    "print(mean,std)"
   ]
  },
  {
   "cell_type": "code",
   "execution_count": 379,
   "metadata": {},
   "outputs": [],
   "source": [
    "x_train = []\n",
    "y_train = []\n",
    "x_test = []\n",
    "y_test = []"
   ]
  },
  {
   "cell_type": "code",
   "execution_count": 380,
   "metadata": {},
   "outputs": [],
   "source": [
    "num = 0\n",
    "random.shuffle(l)\n",
    "for i in l:\n",
    "    if num <= 420:\n",
    "        x_train.append([float(j) for j in i.split()][0:13])\n",
    "        y_train.append([float(j) for j in i.split()][13:])\n",
    "    else:\n",
    "        x_test.append([float(j) for j in i.split()][0:13])\n",
    "        y_test.append([float(j) for j in i.split()][13:])\n",
    "    num += 1"
   ]
  },
  {
   "cell_type": "code",
   "execution_count": 381,
   "metadata": {},
   "outputs": [],
   "source": [
    "x_train = torch.from_numpy((np.array(x_train,dtype=np.float32)-mean)/std).float()\n",
    "y_train = torch.from_numpy(np.array(y_train,dtype=np.float32))\n",
    "x_test = torch.from_numpy((np.array(x_test,dtype=np.float32)-mean)/std).float()\n",
    "y_test = torch.from_numpy(np.array(y_test,dtype=np.float32))"
   ]
  },
  {
   "cell_type": "markdown",
   "metadata": {},
   "source": [
    "## 构建、训练模型"
   ]
  },
  {
   "cell_type": "code",
   "execution_count": 382,
   "metadata": {},
   "outputs": [],
   "source": [
    "class LinearRegression(nn.Module):\n",
    "    def __init__(self, input_num, output_num):\n",
    "        super(LinearRegression, self).__init__()\n",
    "        self.linear1 = nn.Linear(input_num, 128)\n",
    "        self.linear2 = nn.Linear(128, 64)\n",
    "        self.linear3 = nn.Linear(64, output_num)\n",
    "    \n",
    "    def forward(self, x):\n",
    "        out = self.linear1(x)\n",
    "        #print(out)\n",
    "        out = self.linear2(out)\n",
    "        out = self.linear3(out)\n",
    "        return out"
   ]
  },
  {
   "cell_type": "code",
   "execution_count": 383,
   "metadata": {},
   "outputs": [],
   "source": [
    "model = LinearRegression(13,1)\n",
    "\n",
    "criterion = nn.MSELoss()\n",
    "optimizer = optim.SGD(model.parameters(), lr=0.001)"
   ]
  },
  {
   "cell_type": "code",
   "execution_count": 384,
   "metadata": {},
   "outputs": [
    {
     "name": "stdout",
     "output_type": "stream",
     "text": [
      "Epoch[20/1000], loss:165.899399\n",
      "Epoch[40/1000], loss:23.080650\n",
      "Epoch[60/1000], loss:22.197723\n",
      "Epoch[80/1000], loss:21.899021\n",
      "Epoch[100/1000], loss:21.783577\n",
      "Epoch[120/1000], loss:21.736135\n",
      "Epoch[140/1000], loss:21.715145\n",
      "Epoch[160/1000], loss:21.704990\n",
      "Epoch[180/1000], loss:21.699589\n",
      "Epoch[200/1000], loss:21.696470\n",
      "Epoch[220/1000], loss:21.694546\n",
      "Epoch[240/1000], loss:21.693306\n",
      "Epoch[260/1000], loss:21.692488\n",
      "Epoch[280/1000], loss:21.691940\n",
      "Epoch[300/1000], loss:21.691572\n",
      "Epoch[320/1000], loss:21.691322\n",
      "Epoch[340/1000], loss:21.691149\n",
      "Epoch[360/1000], loss:21.691031\n",
      "Epoch[380/1000], loss:21.690952\n",
      "Epoch[400/1000], loss:21.690897\n",
      "Epoch[420/1000], loss:21.690857\n",
      "Epoch[440/1000], loss:21.690834\n",
      "Epoch[460/1000], loss:21.690819\n",
      "Epoch[480/1000], loss:21.690804\n",
      "Epoch[500/1000], loss:21.690798\n",
      "Epoch[520/1000], loss:21.690792\n",
      "Epoch[540/1000], loss:21.690788\n",
      "Epoch[560/1000], loss:21.690783\n",
      "Epoch[580/1000], loss:21.690783\n",
      "Epoch[600/1000], loss:21.690781\n",
      "Epoch[620/1000], loss:21.690781\n",
      "Epoch[640/1000], loss:21.690781\n",
      "Epoch[660/1000], loss:21.690777\n",
      "Epoch[680/1000], loss:21.690781\n",
      "Epoch[700/1000], loss:21.690779\n",
      "Epoch[720/1000], loss:21.690779\n",
      "Epoch[740/1000], loss:21.690779\n",
      "Epoch[760/1000], loss:21.690781\n",
      "Epoch[780/1000], loss:21.690779\n",
      "Epoch[800/1000], loss:21.690781\n",
      "Epoch[820/1000], loss:21.690781\n",
      "Epoch[840/1000], loss:21.690779\n",
      "Epoch[860/1000], loss:21.690779\n",
      "Epoch[880/1000], loss:21.690781\n",
      "Epoch[900/1000], loss:21.690779\n",
      "Epoch[920/1000], loss:21.690779\n",
      "Epoch[940/1000], loss:21.690779\n",
      "Epoch[960/1000], loss:21.690781\n",
      "Epoch[980/1000], loss:21.690781\n",
      "Epoch[1000/1000], loss:21.690781\n"
     ]
    }
   ],
   "source": [
    "num_epochs = 1000\n",
    "for epoch in range(num_epochs):\n",
    "    inputs = Variable(x_train)\n",
    "    target = Variable(y_train)\n",
    "    \n",
    "    #forward\n",
    "    out = model(inputs)\n",
    "    #print(out)\n",
    "    #break\n",
    "    loss = criterion(out, target)\n",
    "    \n",
    "    #backward\n",
    "    optimizer.zero_grad()\n",
    "    loss.backward()\n",
    "    optimizer.step()\n",
    "    \n",
    "    if (epoch+1) % 20 == 0:\n",
    "        print('Epoch[{}/{}], loss:{:.6f}'.format(epoch+1, num_epochs, loss.data))"
   ]
  },
  {
   "cell_type": "markdown",
   "metadata": {},
   "source": [
    "## 模型预测"
   ]
  },
  {
   "cell_type": "code",
   "execution_count": 386,
   "metadata": {},
   "outputs": [
    {
     "data": {
      "image/png": "[encoded data removed]",
      "text/plain": [
       "<Figure size 432x288 with 1 Axes>"
      ]
     },
     "metadata": {
      "needs_background": "light"
     },
     "output_type": "display_data"
    }
   ],
   "source": [
    "model.eval()\n",
    "predict = model(Variable(x_test))\n",
    "predict = predict.data.numpy()\n",
    "\n",
    "x1 = np.linspace(0,50,1000)\n",
    "y1 = x1\n",
    "plt.plot(y_test.numpy(), predict, 'ro', label='Original data')\n",
    "plt.plot(x1, y1, label='Line')\n",
    "plt.show()"
   ]
  },
  {
   "cell_type": "code",
   "execution_count": null,
   "metadata": {},
   "outputs": [],
   "source": []
  }
 ],
 "metadata": {
  "kernelspec": {
   "display_name": "Python 3",
   "language": "python",
   "name": "python3"
  },
  "language_info": {
   "codemirror_mode": {
    "name": "ipython",
    "version": 3
   },
   "file_extension": ".py",
   "mimetype": "text/x-python",
   "name": "python",
   "nbconvert_exporter": "python",
   "pygments_lexer": "ipython3",
   "version": "3.6.9"
  }
 },
 "nbformat": 4,
 "nbformat_minor": 2
}
